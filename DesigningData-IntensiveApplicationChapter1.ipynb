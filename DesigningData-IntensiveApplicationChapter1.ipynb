{
 "cells": [
  {
   "cell_type": "markdown",
   "metadata": {},
   "source": [
    "### Jeorval Cano Morales"
   ]
  },
  {
   "cell_type": "markdown",
   "metadata": {},
   "source": [
    "# Chapter 1"
   ]
  },
  {
   "cell_type": "markdown",
   "metadata": {},
   "source": [
    "## 1. What is a data system? Write some characteristics"
   ]
  },
  {
   "cell_type": "markdown",
   "metadata": {},
   "source": [
    "Data system is a term used to refer to an organized collection of symbols and processes that can be used to operate with such symbols. Any organized collection of symbols and symbol manipulation operations can be considered a data system.\n",
    "\n",
    "Characteristics: \n",
    "* Independencia lógica y física de los datos.\n",
    "* Redundancia mínima.\n",
    "* Acceso concurrente por parte de múltiples usuarios.\n",
    "* Integridad de los datos.\n",
    "* Consultas complejas optimizadas."
   ]
  },
  {
   "cell_type": "markdown",
   "metadata": {},
   "source": [
    "## 2. What are some factors that influence the design of a data system?"
   ]
  },
  {
   "cell_type": "markdown",
   "metadata": {},
   "source": [
    "There are a lot of factors, for instances, the experiences, and skills of the team, besides, legacy system dependencies, the timescale\n",
    "for delivery, your organization’s tolerance of different kinds of risk, regulatory constraints, moreover, depends on the situation and the objective of the data system"
   ]
  },
  {
   "cell_type": "markdown",
   "metadata": {},
   "source": [
    "## 3. what are the concerns in software systems?"
   ]
  },
  {
   "cell_type": "markdown",
   "metadata": {},
   "source": [
    "* Reliability: The system must continue to function properly (performing the correct function at the desired level of performance) even in the face of adversity (hardware or software failure, and even human error\n",
    "\n",
    "* Scalability: As the system grows (in data volume, traffic volume, or complexity), there must be reasonable ways to deal with that growth.\n",
    "\n",
    "* Maintainability: Over time, many different people will work on the system (engineering and operations, maintaining current behavior and adapting the system to new use cases), and everyone should be able to work productively on it."
   ]
  },
  {
   "cell_type": "markdown",
   "metadata": {},
   "source": [
    "## 4. What are the differences between fault and failure? "
   ]
  },
  {
   "cell_type": "markdown",
   "metadata": {},
   "source": [
    "Failure is generally defined as a component of the system that deviates from its specification, while failure is when the system as a whole fails to provide the required service to the user."
   ]
  },
  {
   "cell_type": "markdown",
   "metadata": {},
   "source": [
    "## 5. How system failures can be avoided?"
   ]
  },
  {
   "cell_type": "markdown",
   "metadata": {},
   "source": [
    "When we think of causes of system failure, hardware faults quickly come to mind. Our first response is usually to add redundancy to the individual hardware components in order to reduce the failure rate of the system. This approach cannot completely prevent hardware problems from causing failures, but it is well understood and can often keep a machine running uninterrupted for years. Until recently, redundancy of hardware components was sufficient for most applications, since it makes total failure of a single machine fairly rare.\n",
    "\n",
    "As long as you can restore a backup onto a new machine fairly quickly, the downtime in case of failure is not catastrophic in most applications. Thus, multi-machine redundancy was only required by a small number of applications for which high availability was absolutely essential. However, as data volumes and applications’ computing demands have increased, more applications have begun using larger numbers of machines, which proportionally increases the rate of hardware faults."
   ]
  },
  {
   "cell_type": "markdown",
   "metadata": {},
   "source": [
    "## 6. What is a Sofware error?"
   ]
  },
  {
   "cell_type": "markdown",
   "metadata": {},
   "source": [
    "Another class of fault is a systematic error within the system . Such faults are harder to anticipate, and because they are correlated across nodes, they tend to cause many more system failures than uncorrelated hardware faults . A service that the system depends on that slows down, becomes unresponsive, or starts returning corrupted responses. Cascading failures, where a small fault in one component triggers a fault in another component, which in turn triggers further faults .\n",
    "\n",
    "The bugs that cause these kinds of software faults often lie dormant for a long time until they are triggered by an unusual set of circumstances. There is no quick solution to the problem of systematic faults in software. Measuring, monitoring, and analyzing system behavior in production."
   ]
  },
  {
   "cell_type": "markdown",
   "metadata": {},
   "source": [
    "## 7. Why reliability is so important?"
   ]
  },
  {
   "cell_type": "markdown",
   "metadata": {},
   "source": [
    "Because bugs in business applications cause lost productivity , and outages of ecommerce sites can have huge costs in terms of lost revenue and damage to reputation. Even in \"noncritical\" applications we have a responsibility to our users."
   ]
  },
  {
   "cell_type": "markdown",
   "metadata": {},
   "source": [
    "## 8. Why simplicity in maintainability is important?"
   ]
  },
  {
   "cell_type": "markdown",
   "metadata": {},
   "source": [
    "Small software projects can have delightfully simple and expressive code, but as projects get larger, they often become very complex and difficult to understand. This complexity slows down everyone who needs to work on the system, further increasing the cost of maintenance. A software project mired in complexity is sometimes described as a big ball of mud. When complexity makes maintenance hard, budgets and schedules are often overrun.\n",
    "\n",
    "Conversely, reducing complexity greatly improves the maintainability of software, and thus simplicity should be a key goal for the systems we build. One of the best tools we have for removing accidental complexity is abstraction. A good abstraction can hide a great deal of implementation detail behind a clean, simple-to-understand façade. A good abstraction can also be used for a wide range of different applications.\n",
    "\n",
    "Not only is this reuse more efficient than reimplementing a similar thing multiple times, but it also leads to higher-quality software, as quality improvements in the abstracted component benefit all applications that use it. For example, high-level programming languages are abstractions that hide machine code, CPU registers, and syscalls. SQL is an abstraction that hides complex on-disk and in-memory data structures, concurrent requests from other clients, and inconsistencies after crashes. Throughout this book, we will keep our eyes open for good abstractions that allow us to extract parts of a large system into well-defined, reusable components."
   ]
  }
 ],
 "metadata": {
  "kernelspec": {
   "display_name": "Python 3",
   "language": "python",
   "name": "python3"
  },
  "language_info": {
   "codemirror_mode": {
    "name": "ipython",
    "version": 3
   },
   "file_extension": ".py",
   "mimetype": "text/x-python",
   "name": "python",
   "nbconvert_exporter": "python",
   "pygments_lexer": "ipython3",
   "version": "3.7.6"
  }
 },
 "nbformat": 4,
 "nbformat_minor": 4
}
