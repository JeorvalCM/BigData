{
 "cells": [
  {
   "cell_type": "markdown",
   "metadata": {},
   "source": [
    "# Cheat sheet\n",
    "\n",
    "\n",
    "# Student: Jeorval Jose Cano Morales"
   ]
  },
  {
   "cell_type": "markdown",
   "metadata": {},
   "source": [
    "## First Steps"
   ]
  },
  {
   "cell_type": "markdown",
   "metadata": {},
   "source": [
    "#### Command: show dbs\n",
    "\n",
    "\n",
    "As its name says shows all the databases in the server\n",
    "![image.jpg](imagenes/showdbs.jpg)"
   ]
  },
  {
   "cell_type": "markdown",
   "metadata": {},
   "source": [
    "#### db\n",
    "\n",
    "\n",
    "Shows the name of the current database you are in\n",
    "\n",
    "\n",
    "\n",
    "<img src = \"imagenes/db.jpg\">"
   ]
  },
  {
   "cell_type": "markdown",
   "metadata": {},
   "source": [
    "#### Use\n",
    "\n",
    "\n",
    "This command works to switchs between the databases of the server\n",
    "\n",
    "\n",
    "<img src = \"imagenes/switch.jpg\">"
   ]
  },
  {
   "cell_type": "markdown",
   "metadata": {},
   "source": [
    "#### Show collections \n",
    "\n",
    "\n",
    "Shows all the collections of the database you are currently in\n",
    "\n",
    "\n",
    "<img src = \"imagenes/colllections.jpg\">"
   ]
  },
  {
   "cell_type": "markdown",
   "metadata": {},
   "source": [
    "#### Insert\n",
    "\n",
    "\n",
    "It adds a new value inside the colecction you specified and if this collection doesn't exits this command makes it \n",
    "\n",
    "\n",
    "<img src = \"imagenes/insert.jpg\">\n",
    "\n",
    "\n",
    "As you can see in the image if the value is correctly inserted returns 1\n",
    "\n",
    "\n",
    "\n",
    "The syntas is must be in the following way\n",
    "\n",
    "\n",
    "db.COLLECTIONNAME.insert({CATEGORY1: value, CATEGORY2: Value})"
   ]
  },
  {
   "cell_type": "markdown",
   "metadata": {},
   "source": [
    "#### Find and pretty\n",
    "\n",
    "\n",
    "\n",
    "Find: Return the elements found with the arguments you passed if there is nor arguments returns all the documents\n",
    "Pretty: Print the document as a JSON format\n",
    "\n",
    "<img src = \"imagenes/find.jpg\">\n",
    "\n",
    "\n",
    "Using one argument in find()\n",
    "\n",
    "\n",
    "<img src = \"imagenes/find2.jpg\">\n",
    "\n",
    "\n",
    "\n",
    "Using two arguments n find() and pretty\n",
    "\n",
    "\n",
    "<img src = \"imagenes/findpretty.jpg\">\n",
    "\n",
    "\n",
    "\n",
    "Find inside document, to find inside a document inside a document you use the name of the category and you add a dot and the name of the attribute, for example, find({rate.Calificador2: 10})\n",
    "<img src = \"imagenes/find3.jpg\">\n",
    "\n",
    "\n",
    "#### findOne()\n",
    "\n",
    "\n",
    "return only one and it is the first to be found\n",
    "\n",
    "\n",
    "\n",
    "<img src = \"imagenes/findone.jpg\">"
   ]
  },
  {
   "cell_type": "markdown",
   "metadata": {},
   "source": [
    "#### Remove\n",
    "\n",
    "\n",
    "Eliminate the document matched with your arguments\n",
    "\n",
    "\n",
    "<img src = \"imagenes/remove.jpg\">\n",
    "\n",
    "\n",
    "In this case removed two elements"
   ]
  },
  {
   "cell_type": "markdown",
   "metadata": {},
   "source": [
    "#### Update \n",
    "\n",
    "\n",
    "Command to modify information of the documents\n",
    "\n",
    "\n",
    "<img src = \"imagenes/update.jpg\">\n",
    "\n",
    "\n",
    "Using multi\n",
    "<img src = \"imagenes/updatemulti.jpg\">\n",
    "\n",
    "\n",
    "Other arguments for update, $inc, increments the value by the nmber you pass\n",
    "\n",
    "\n",
    "<img src = \"imagenes/updateinc.jpg\">\n",
    "\n",
    "\n",
    "Eliminating fields in all the documents\n",
    "\n",
    "\n",
    "<img src = \"imagenes/unset.jpg\">\n",
    "\n",
    "\n",
    "\n",
    "Renaming a field\n",
    "\n",
    "\n",
    "<img src = \"imagenes/rename.jpg\">"
   ]
  },
  {
   "cell_type": "markdown",
   "metadata": {},
   "source": [
    "#### Comparison query editors\n",
    "\n",
    "\n",
    "There exists comparison commands an are:\n",
    "\n",
    "\n",
    "$gte: greater than or equal to\n",
    "\n",
    "\n",
    "$gt: greater than\n",
    "\n",
    "\n",
    "$lte: less than or equal to\n",
    "\n",
    "\n",
    "$ne: not equal to\n",
    "\n",
    "\n",
    "example: \n",
    "\n",
    "\n",
    "\n",
    "<img src = \"imagenes/lt.jpg\">\n",
    "\n",
    "\n",
    "combaining ranges\n",
    "\n",
    "\n",
    "<img src = \"imagenes/combaining.jpg\">\n",
    "\n",
    "\n",
    "\n",
    "Using find and excluiding fields we don't want to see\n",
    "\n",
    "\n",
    "\n",
    "<img src = \"imagenes/findes.jpg\">\n",
    "\n",
    "\n",
    "\n",
    "##### Count method\n",
    "\n",
    "\n",
    "<img src = \"imagenes/count.jpg\">"
   ]
  },
  {
   "cell_type": "markdown",
   "metadata": {},
   "source": [
    "##### sort method\n",
    "\n",
    "\n",
    "ascending\n",
    "<img src = \"imagenes/ascending.jpg\">\n",
    "\n",
    "\n",
    "descending\n",
    "<img src = \"imagenes/descending.jpg\">"
   ]
  },
  {
   "cell_type": "markdown",
   "metadata": {},
   "source": [
    "##### limit\n",
    "limit the printing\n",
    "<img src = \"imagenes/limit.jpg\">\n",
    "\n",
    "\n",
    "##### skip\n",
    "skips the elements \n",
    "<img src = \"imagenes/skip.jpg\">"
   ]
  },
  {
   "cell_type": "markdown",
   "metadata": {},
   "source": [
    "#### Aggregations\n",
    "\n",
    "\n",
    "<img src = \"imagenes/group.jpg\">\n",
    "\n",
    "\n",
    "<img src = \"imagenes/totalsum.jpg\">"
   ]
  },
  {
   "cell_type": "code",
   "execution_count": null,
   "metadata": {},
   "outputs": [],
   "source": []
  }
 ],
 "metadata": {
  "kernelspec": {
   "display_name": "Python 3",
   "language": "python",
   "name": "python3"
  },
  "language_info": {
   "codemirror_mode": {
    "name": "ipython",
    "version": 3
   },
   "file_extension": ".py",
   "mimetype": "text/x-python",
   "name": "python",
   "nbconvert_exporter": "python",
   "pygments_lexer": "ipython3",
   "version": "3.6.8"
  }
 },
 "nbformat": 4,
 "nbformat_minor": 4
}
