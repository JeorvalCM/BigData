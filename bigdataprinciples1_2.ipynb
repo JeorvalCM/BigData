{
 "cells": [
  {
   "cell_type": "markdown",
   "metadata": {},
   "source": [
    "# Chapter 1: A new paradigm for Big Data"
   ]
  },
  {
   "cell_type": "markdown",
   "metadata": {},
   "source": [
    "## Summary (a real short one)\n"
   ]
  },
  {
   "cell_type": "markdown",
   "metadata": {},
   "source": [
    "While reading this chapter I got disappointed and some times, anxious to read further chapters since when the chapter starts telling us about an interesting tool or topic, always says \"you will read about this in chapter 7\" and so on. Besides, this chapter works to give us an idea of what this book is about giving us the properties of a big data system, lambda architecture, batch layer, and so on."
   ]
  },
  {
   "cell_type": "markdown",
   "metadata": {},
   "source": [
    "#### 1. Why working with big data on a NoSQL system is better than working on a SQL System?"
   ]
  },
  {
   "cell_type": "markdown",
   "metadata": {},
   "source": [
    "There are several reasons why NoSQL systems are better than SQL system while working with big data, one the book shared us It is about an example of how using a SQL system to collect data from a website you develop can be easy at the beginning but it gets harder each time your website gets bigger or rather more known by people, therefore, there is more data to be collected, and the example of the book also gives solution but the solutions start getting more complex and complex at a point where a human mistake in the system can make everything collapse and also since your data is divided into different databases a query get complex and the system is not anymore a generalized one. So if you will work with big data a NoSQL is the best and also I researched about other reasons why people are starting using NoSQL systems rather than SQL systems:\n",
    "* NoSQL databases are horizontally scalable, basically, the database can handle more data by just adding more servers to the database\n",
    "* NoSQL databases have the ability to become larger and much more powerful\n",
    "* NoSQL seems to work better on both unstructured and unrelated data.\n",
    "* They have a dynamic schema\n",
    "* These databases are best suited for hierarchical data storage\n",
    "* Allows to save large data without dividing into different databases"
   ]
  },
  {
   "cell_type": "markdown",
   "metadata": {},
   "source": [
    "#### 2. What are the desired properties of a big data system ? Describe them"
   ]
  },
  {
   "cell_type": "markdown",
   "metadata": {},
   "source": [
    "* Robustness and fault tolerance: How much your system can hold difficulties without affecting how the system works. Because there will always be errors and the reason why is because we are humans.\n",
    "* Low latency reads and updates: This one as its name says, it is related to the rapidness of your system to read and update documents to your system without affecting your system robustness, how rapid? from millisecond to hundreds of milliseconds. But actually, the low latency matters when you actually what that latency, so the actual property is to have a low latency when you require it\n",
    "* Scalability: The system can be adapted to work with larger data when is required \n",
    "* Generalization: The system can be applied in different fields and not only in a specific one. The system is not designed to only be used in one project \n",
    "* Extensibility: A new feature can be added without destroying or affecting negatively your system\n",
    "* Ad hoc queries: This one I didn't understand it at all, but it is like mining your data to find new discoveries\n",
    "* Minimal maintenance: This one is pretty easy, it is your system is so well design that you don't need to fix errors and make a lot of maintenance, this is because making a lot of maintenance can be expensive \n",
    "* Debuggability: It is related to document your system in order to provide information in case the system needs to be debugged "
   ]
  },
  {
   "cell_type": "markdown",
   "metadata": {},
   "source": [
    "#### 3. What is the lambda structure? and how is structured? "
   ]
  },
  {
   "cell_type": "markdown",
   "metadata": {},
   "source": [
    "The main idea of the structure is to avoid some errors or failures of analyzing big data by using a series of layers, these layers are three and are  Batch layer, serving layer, and speed layer. This structure is divided into 3 subset to each one satisfy some properties of The Big data systems."
   ]
  },
  {
   "cell_type": "markdown",
   "metadata": {},
   "source": [
    "#### 4. Which are the main differences between Batch layer and Speed layer? and how do they complement each other? "
   ]
  },
  {
   "cell_type": "markdown",
   "metadata": {},
   "source": [
    "Both layers are so different from each other, first The batch layer saves a master copy of the dataset and works it on the master dataset, and the batch layer works without using the most recent data and this is because the new data is work by the speed layer, so speed data compute or rather works with real-time data this to have the most recent data in the query, hence, batch layer and speed layer complement each other by both use data both the speed layer uses real-time data and the batch layer uses all the data but the real-time. So, to have a complet query this two layers work together."
   ]
  },
  {
   "cell_type": "markdown",
   "metadata": {},
   "source": [
    "#### 5. What is the difference between horizontal and vertical scalability?"
   ]
  },
  {
   "cell_type": "markdown",
   "metadata": {},
   "source": [
    "What is the difference between horizontal and vertical scalability?\n",
    "The horizontal scalability refers to add more machines (servers) to your database and vertical refers to add more power to your machine (CPU, RAM, GPU). "
   ]
  },
  {
   "cell_type": "markdown",
   "metadata": {},
   "source": [
    "#### 6. What is a panacea? and Why NoSQL is not? "
   ]
  },
  {
   "cell_type": "markdown",
   "metadata": {},
   "source": [
    "According to Cambridge dictionary a panacea is: *something that will solve all problems*"
   ]
  },
  {
   "cell_type": "markdown",
   "metadata": {},
   "source": [
    "NoSQL systems are not a panacea because cannot solve all the problems on its own, there are cases where NoSQL is better than SQL and the other way around, too. The book gives us some examples, for example, Hadoop can parallelize large-scale batch computations on very large amounts of data, something that is amazing, but has not low-latency, therefore Hadoop is not useful when you need low latency and there is Cassandra, too, the scalability is really good but uses a more limited model, so you need to adapt your queries into this model, something that can be complex. "
   ]
  },
  {
   "cell_type": "markdown",
   "metadata": {},
   "source": [
    "#### 7. Give some recent trends in technology"
   ]
  },
  {
   "cell_type": "markdown",
   "metadata": {},
   "source": [
    "* CPU's are not getting faster: About this point, you may think it's impossible, but it's kinda true. Companies are trying to develop faster CPU but 2 bit systems are getting close to its limits, therefore, people are creating parallelize algorithms and since companies want to make faster CPU they are working on quantum computing \n",
    "\n",
    "* Elastic Cloud: When you need more space or memory to work in the cloud, you only need to buy more of it, something that is easy in clouds as Amazon cloud service and so on. That's why medium enterprises prefer to buy a cloud server instead of buying a physical one.\n",
    "\n",
    "* Open Source: As you may know, there are several free software on the web, and this tendency is increasing since are working and by being free the community grows fast making new libraries and so on."
   ]
  },
  {
   "cell_type": "markdown",
   "metadata": {},
   "source": [
    "# Chapter 2: Data model for Big Data"
   ]
  },
  {
   "cell_type": "markdown",
   "metadata": {},
   "source": [
    "#### 1. When you design your Big data System which is one of your main goals and why?"
   ]
  },
  {
   "cell_type": "markdown",
   "metadata": {},
   "source": [
    "One of your main goals is by using the data you can answer as many questions as possible. This is because from being able to respond to these questions your data is more valuable since can be used in different analysis or rather objectives. The book gives us an example of how on social media the personal information you can get from your users is more valuable than information of the web site by itself, this is call rawness, Besides, getting raw data allows you to answer more questions."
   ]
  },
  {
   "cell_type": "markdown",
   "metadata": {},
   "source": [
    "#### 2. When should you store unstructured data?"
   ]
  },
  {
   "cell_type": "markdown",
   "metadata": {},
   "source": [
    "Unstructured data is data that has no format or rather is purely raw, i.e- this data has suffered no changes since it was collected. You should store this kind of data when the algorithm or program you use for extracting data is accurate or the data has no mistakes, when I refer to not mistakes is collect data that has only one format to be introduced in your web page or app, like your age, your age always be a number and your page should only accept numbers in that category."
   ]
  },
  {
   "cell_type": "markdown",
   "metadata": {},
   "source": [
    "#### 3.What is inmutable data and why is important in NoSQL systems?  "
   ]
  },
  {
   "cell_type": "markdown",
   "metadata": {},
   "source": [
    "Inmutable data as its name says is data that cannot be mutable, hence cannot be updater or deleted, its data that has never been changed since the moment it was added to the database.\n",
    "This schema is used to prevent human errors, since human can makes mistake while working with data they can delete data or data can be negatively affected and by using inmutable data, no data can be damaged by human mistakes. Besides, inmutable data is simple since you cannot change you only added it to your system, hence there is no indexation as in SQL"
   ]
  },
  {
   "cell_type": "markdown",
   "metadata": {},
   "source": [
    "#### 4. When do you delete data in an inmutable system?"
   ]
  },
  {
   "cell_type": "markdown",
   "metadata": {},
   "source": [
    "As I explain in the last question in big data an immutable system is important to avoid eliminating data by mistake, but there are still some cases you need to eliminate data, but why? One case is the garbage collection you delete all the worthless data or data you are not using more, and it's also used to avoid getting many worthless data by using retention policies.\n",
    "\n",
    "The second case is the regulations. Some policies of regulations may force you to eliminate some data that do not perform these regulations "
   ]
  },
  {
   "cell_type": "markdown",
   "metadata": {},
   "source": [
    "#### 5. What is the fact-based model? "
   ]
  },
  {
   "cell_type": "markdown",
   "metadata": {},
   "source": [
    "It is a conceptual approach to model, transform and consult the information where all the facts of interest are represented in terms of attribute-free structures known as fact types.\n",
    "\n",
    "\n",
    "Higher arity event types are also allowed. For flexibility and to serve for foreign languages, the predicates can be represented in mixfix form, where the terms for the objects to be predicated, they are inserted into relevant placeholder positions to form the actual sentence"
   ]
  },
  {
   "cell_type": "markdown",
   "metadata": {},
   "source": [
    "#### 6. What are the advantages of the fact-based model? "
   ]
  },
  {
   "cell_type": "markdown",
   "metadata": {},
   "source": [
    "* The dataset is queryable at any time in its history: As its name says, you can handle any date, doesn't matter if this date is recent or is the first register to be saved, this is a direct consequence of using immutable data\n",
    "* The data is human-fault tolerant: This is something we have already talked, Human mistakes are avoided by using immutable data, so this point is more about how the system is far from having errors that can affect the data. \n",
    "* The dataset easily handles partial information: The storage of a fact by record facilitates the handling of partial information about an entity without entering NULL values in your dataset\n",
    "* The data storage and query processing layers are separate: This point refers how you can ave your data either normalized and denormalized."
   ]
  },
  {
   "cell_type": "code",
   "execution_count": null,
   "metadata": {},
   "outputs": [],
   "source": []
  }
 ],
 "metadata": {
  "kernelspec": {
   "display_name": "Python 3",
   "language": "python",
   "name": "python3"
  },
  "language_info": {
   "codemirror_mode": {
    "name": "ipython",
    "version": 3
   },
   "file_extension": ".py",
   "mimetype": "text/x-python",
   "name": "python",
   "nbconvert_exporter": "python",
   "pygments_lexer": "ipython3",
   "version": "3.6.8"
  }
 },
 "nbformat": 4,
 "nbformat_minor": 4
}
