{
 "cells": [
  {
   "cell_type": "markdown",
   "metadata": {},
   "source": [
    "### Student:\n",
    "#### Jeorval Jose Cano Morales"
   ]
  },
  {
   "cell_type": "markdown",
   "metadata": {},
   "source": [
    "# Chapter 3: Data model for Big Data: Illustration"
   ]
  },
  {
   "cell_type": "markdown",
   "metadata": {},
   "source": [
    "#### 1. Why schemaless formats leads to problems?\n",
    "This kind of formats are JSON, the problems start either debugging or misunderstanding between developers, in this kins of formats data corruption inevitable occurs, and data corruptions are time-consuming"
   ]
  },
  {
   "cell_type": "markdown",
   "metadata": {},
   "source": [
    "#### 2. Why an enforceable schema is so good when finding data problems? \n",
    "\n",
    "An enforceable schema allows you to find the problem at the time you write the data, and also gives you full context of how and why the data become corrupted and by preventing errors to get set you to prevent writing corrupted data in the master data-set "
   ]
  },
  {
   "cell_type": "markdown",
   "metadata": {},
   "source": [
    "#### 3. What are the workhorses of Thrift? \n",
    "\n",
    "These are struct and union type. Union works as a representation of nodes whilst strucs are natural representation of edges.These are also conformed by \n",
    "\n",
    "* Primitive data types (strings, integers, longs, and doubles)\n",
    "* Collections of other types (lists, maps, and sets)\n",
    "* Other structs and unions"
   ]
  },
  {
   "cell_type": "markdown",
   "metadata": {},
   "source": [
    "#### 4. How are nodes and edges on SuperWebAnalytics.com?\n",
    "\n",
    "Nodes are represented by data than contains an identifier that can be either a user ID or a cookie browser. Edge is a struct that contains two nodes, actually, the edge links them its name represents the relationship between nodes"
   ]
  },
  {
   "cell_type": "markdown",
   "metadata": {},
   "source": [
    "#### 5. What is a property? \n",
    "\n",
    "The property carries a node and a value for the property. The value can be one of many types, so it is best represented using a union structure."
   ]
  },
  {
   "cell_type": "markdown",
   "metadata": {},
   "source": [
    "#### 6. What are the rules you must obey to change your schema? \n",
    "\n",
    "* Fields may be renamed: The reason why is since the serialized form of an object uses the Field IDs, not names, to identify fields.\n",
    "\n",
    "* A field may be removed, but you must never reuse that field ID: When deserializing existing data, Thrift will ignore all fields with field IDs not included in the schema. If I were to reuse a previously deleted field ID, Thrift would try to deserialize that old data into the new field, which would lead to incorrect or invalid data.\n",
    "\n",
    "* Only optional fields can be added to existing structs: You cannot add mandatory fields because existing data will not have those fields and therefore will not be deserialized"
   ]
  },
  {
   "cell_type": "markdown",
   "metadata": {},
   "source": [
    "#### 7. What are the approache to work with limitations?\n",
    "\n",
    "* Wrap your generated code in additional code that checks the additional properties you care about, like ages being non-negative.\n",
    "\n",
    "* Check the extra properties at the very beginning of your batch-processing workflow."
   ]
  },
  {
   "cell_type": "markdown",
   "metadata": {},
   "source": [
    "# Chapter 4"
   ]
  },
  {
   "cell_type": "markdown",
   "metadata": {},
   "source": [
    "#### 1. What is key/value store? \n",
    "\n",
    "It is conformed by hashmaps that are distributed among many machines. Basically, you are storing a set of master data in a key/value store, the first thing you need to find out is what the keys should be and what the values should be. The key is an UUID while value obviously is the data you want to save"
   ]
  },
  {
   "cell_type": "markdown",
   "metadata": {},
   "source": [
    "#### 2. What are some problems of key/value store?\n",
    "\n",
    "\n",
    "Since key/value store indexes your whole data this makes you are provided by unnecessary services, which actually increase your storage and also decrease your performance when reading and writing data. Besides, There is random reads, random writes, and all the machinery behind making those work."
   ]
  },
  {
   "cell_type": "markdown",
   "metadata": {},
   "source": [
    "#### 3. What is a distributed filesystems and how are designed? \n",
    "\n",
    "They are a filesystems that spread their storage across a cluster of computers. Distributed file systems are designed to be fault-tolerant when a machine goes down, which means that if you lose a machine, all of your files and data will remain accessible."
   ]
  },
  {
   "cell_type": "markdown",
   "metadata": {},
   "source": [
    "#### 4. What are the differences between distributed filesystems and regular filesystems?\n",
    "\n",
    "* Distributed filesystem are often more limited\n",
    "\n",
    "* You may not be able to write to the middle of a file or even modify a file at all after creation.\n",
    "* Having small files can be inefficient, so you have to keep your file sizes relatively large to make use of the distributed filesystem properly"
   ]
  },
  {
   "cell_type": "markdown",
   "metadata": {},
   "source": [
    "#### 5. What is Hadoop Distributed File System?\n",
    "\n",
    "It is a distributed file system designed to run on commodity hardware. It has many similarities with existing distributed file systems. However, the differences from other distributed file systems are significant. HDFS is highly fault-tolerant and is designed to be deployed on low-cost hardware. HDFS provides high throughput access to application data and is suitable for applications that have large data sets. HDFS relaxes a few POSIX requirements to enable streaming access to file system data"
   ]
  },
  {
   "cell_type": "markdown",
   "metadata": {},
   "source": [
    "#### 6. What are the requiarements for distributed filesystems to storage in the master dataset?\n",
    "\n",
    "* Efficient appends of new data\n",
    "* Scalable storage\n",
    "* Support for parallel processing\n",
    "* Tunable storage and processing costs\n",
    "* Enforceable immutability"
   ]
  },
  {
   "cell_type": "markdown",
   "metadata": {},
   "source": [
    "#### 7. What is vertical partitioning?\n",
    "\n",
    "It is the capability to partition your data, in this way the program only access to the relevant data for the computation, making the batch layer more efficient"
   ]
  },
  {
   "cell_type": "code",
   "execution_count": null,
   "metadata": {},
   "outputs": [],
   "source": []
  }
 ],
 "metadata": {
  "kernelspec": {
   "display_name": "Python 3",
   "language": "python",
   "name": "python3"
  },
  "language_info": {
   "codemirror_mode": {
    "name": "ipython",
    "version": 3
   },
   "file_extension": ".py",
   "mimetype": "text/x-python",
   "name": "python",
   "nbconvert_exporter": "python",
   "pygments_lexer": "ipython3",
   "version": "3.6.8"
  }
 },
 "nbformat": 4,
 "nbformat_minor": 4
}
